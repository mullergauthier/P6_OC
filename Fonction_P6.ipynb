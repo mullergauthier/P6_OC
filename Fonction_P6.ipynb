{
  "nbformat": 4,
  "nbformat_minor": 0,
  "metadata": {
    "colab": {
      "name": "Fonction P6.ipynb",
      "provenance": []
    },
    "kernelspec": {
      "name": "python3",
      "display_name": "Python 3"
    }
  },
  "cells": [
    {
      "cell_type": "markdown",
      "metadata": {
        "id": "hi6HVVBxI0jo"
      },
      "source": [
        "## Google"
      ]
    },
    {
      "cell_type": "code",
      "metadata": {
        "id": "lbr_CuyEIyHd",
        "colab": {
          "base_uri": "https://localhost:8080/"
        },
        "outputId": "ba1a276c-b081-4d74-d76a-c6017f2dd1b1"
      },
      "source": [
        "## definition du dossier drive\r\n",
        "from google.colab import drive\r\n",
        "drive.mount('/content/drive')"
      ],
      "execution_count": null,
      "outputs": [
        {
          "output_type": "stream",
          "text": [
            "Mounted at /content/drive\n"
          ],
          "name": "stdout"
        }
      ]
    },
    {
      "cell_type": "markdown",
      "metadata": {
        "id": "T6uDi4i9IKtM"
      },
      "source": [
        "## Imports"
      ]
    },
    {
      "cell_type": "code",
      "metadata": {
        "id": "cajkScZUILIm",
        "colab": {
          "base_uri": "https://localhost:8080/"
        },
        "outputId": "cbbd5168-31cd-4bff-88db-4225e6cdb2eb"
      },
      "source": [
        "## Imports de librairies\r\n",
        "import pandas as pd\r\n",
        "import numpy as np\r\n",
        "import statsmodels.api as sm\r\n",
        "from sklearn.linear_model import LogisticRegression"
      ],
      "execution_count": null,
      "outputs": [
        {
          "output_type": "stream",
          "text": [
            "/usr/local/lib/python3.6/dist-packages/statsmodels/tools/_testing.py:19: FutureWarning: pandas.util.testing is deprecated. Use the functions in the public API at pandas.testing instead.\n",
            "  import pandas.util.testing as tm\n"
          ],
          "name": "stderr"
        }
      ]
    },
    {
      "cell_type": "markdown",
      "metadata": {
        "id": "YUAor2mGIU9l"
      },
      "source": [
        "## Data"
      ]
    },
    {
      "cell_type": "code",
      "metadata": {
        "id": "eV6AOsDoJymG",
        "colab": {
          "base_uri": "https://localhost:8080/"
        },
        "outputId": "798409d7-273c-4e95-c0f7-476bfa0ecf06"
      },
      "source": [
        "## Préparation du dataset\r\n",
        "raw_data = pd.read_csv('/content/drive/My Drive/DataAnalyst/P6_Muller_Gauthier/data/notes.csv')\r\n",
        "raw_data.dropna(axis=0, inplace=True)\r\n",
        "raw_data['is_genuine'].replace([False, True], [0, 1], inplace=True)\r\n",
        "raw_data.head()"
      ],
      "execution_count": null,
      "outputs": [
        {
          "output_type": "execute_result",
          "data": {
            "text/html": [
              "<div>\n",
              "<style scoped>\n",
              "    .dataframe tbody tr th:only-of-type {\n",
              "        vertical-align: middle;\n",
              "    }\n",
              "\n",
              "    .dataframe tbody tr th {\n",
              "        vertical-align: top;\n",
              "    }\n",
              "\n",
              "    .dataframe thead th {\n",
              "        text-align: right;\n",
              "    }\n",
              "</style>\n",
              "<table border=\"1\" class=\"dataframe\">\n",
              "  <thead>\n",
              "    <tr style=\"text-align: right;\">\n",
              "      <th></th>\n",
              "      <th>is_genuine</th>\n",
              "      <th>diagonal</th>\n",
              "      <th>height_left</th>\n",
              "      <th>height_right</th>\n",
              "      <th>margin_low</th>\n",
              "      <th>margin_up</th>\n",
              "      <th>length</th>\n",
              "    </tr>\n",
              "  </thead>\n",
              "  <tbody>\n",
              "    <tr>\n",
              "      <th>0</th>\n",
              "      <td>1</td>\n",
              "      <td>171.81</td>\n",
              "      <td>104.86</td>\n",
              "      <td>104.95</td>\n",
              "      <td>4.52</td>\n",
              "      <td>2.89</td>\n",
              "      <td>112.83</td>\n",
              "    </tr>\n",
              "    <tr>\n",
              "      <th>1</th>\n",
              "      <td>1</td>\n",
              "      <td>171.67</td>\n",
              "      <td>103.74</td>\n",
              "      <td>103.70</td>\n",
              "      <td>4.01</td>\n",
              "      <td>2.87</td>\n",
              "      <td>113.29</td>\n",
              "    </tr>\n",
              "    <tr>\n",
              "      <th>2</th>\n",
              "      <td>1</td>\n",
              "      <td>171.83</td>\n",
              "      <td>103.76</td>\n",
              "      <td>103.76</td>\n",
              "      <td>4.40</td>\n",
              "      <td>2.88</td>\n",
              "      <td>113.84</td>\n",
              "    </tr>\n",
              "    <tr>\n",
              "      <th>3</th>\n",
              "      <td>1</td>\n",
              "      <td>171.80</td>\n",
              "      <td>103.78</td>\n",
              "      <td>103.65</td>\n",
              "      <td>3.73</td>\n",
              "      <td>3.12</td>\n",
              "      <td>113.63</td>\n",
              "    </tr>\n",
              "    <tr>\n",
              "      <th>4</th>\n",
              "      <td>1</td>\n",
              "      <td>172.05</td>\n",
              "      <td>103.70</td>\n",
              "      <td>103.75</td>\n",
              "      <td>5.04</td>\n",
              "      <td>2.27</td>\n",
              "      <td>113.55</td>\n",
              "    </tr>\n",
              "  </tbody>\n",
              "</table>\n",
              "</div>"
            ],
            "text/plain": [
              "   is_genuine  diagonal  height_left  ...  margin_low  margin_up  length\n",
              "0           1    171.81       104.86  ...        4.52       2.89  112.83\n",
              "1           1    171.67       103.74  ...        4.01       2.87  113.29\n",
              "2           1    171.83       103.76  ...        4.40       2.88  113.84\n",
              "3           1    171.80       103.78  ...        3.73       3.12  113.63\n",
              "4           1    172.05       103.70  ...        5.04       2.27  113.55\n",
              "\n",
              "[5 rows x 7 columns]"
            ]
          },
          "metadata": {
            "tags": []
          },
          "execution_count": 3
        }
      ]
    },
    {
      "cell_type": "code",
      "metadata": {
        "id": "IN2H0kYWKWVl"
      },
      "source": [
        "data_test=raw_data.copy()"
      ],
      "execution_count": null,
      "outputs": []
    },
    {
      "cell_type": "markdown",
      "metadata": {
        "id": "68jiwNwJK08k"
      },
      "source": [
        "#Regression logistique"
      ]
    },
    {
      "cell_type": "code",
      "metadata": {
        "id": "ivZ0jUCKkhrL"
      },
      "source": [
        "## On n'utilise la regression lotgistique comme modèle\r\n",
        "model = LogisticRegression()"
      ],
      "execution_count": null,
      "outputs": []
    },
    {
      "cell_type": "code",
      "metadata": {
        "id": "0VytzJkgkkfc"
      },
      "source": [
        "## Is genuine est la variable a prédire\r\n",
        "y = data_test['is_genuine']\r\n",
        "## On utilise  les variables prédictive margin_low et length\r\n",
        "X = data_test.drop(['is_genuine','diagonal','height_left','height_right','margin_up'], axis=1)"
      ],
      "execution_count": null,
      "outputs": []
    },
    {
      "cell_type": "code",
      "metadata": {
        "colab": {
          "base_uri": "https://localhost:8080/"
        },
        "id": "AQlIb9SRktyv",
        "outputId": "861ac279-f601-48a5-e915-4a2ef56eedf0"
      },
      "source": [
        "model.fit(X, y) # entrainement du modele\r\n",
        "model.score(X, y) # évaluation"
      ],
      "execution_count": null,
      "outputs": [
        {
          "output_type": "execute_result",
          "data": {
            "text/plain": [
              "0.9823529411764705"
            ]
          },
          "metadata": {
            "tags": []
          },
          "execution_count": 7
        }
      ]
    },
    {
      "cell_type": "markdown",
      "metadata": {
        "id": "LfWCryaUQx2b"
      },
      "source": [
        "## Fonction"
      ]
    },
    {
      "cell_type": "code",
      "metadata": {
        "id": "AXD7uT_4lIQm"
      },
      "source": [
        "## Création d'une fonction permettant de predire et affichage\r\n",
        "def survie(model, margin_low,length):\r\n",
        "  x = np.array([margin_low, length]).reshape(1,2)\r\n",
        "  print(\"Le billet {} est {} avec une certitude de {}%\".format(data_example.iloc[i,2],\"FAUX\" if model.predict(x)==0 else \r\n",
        "                                                               \"VRAI\",(model.predict_proba(x)[:,1]*100) if model.predict(x)==1 else \r\n",
        "                                                               (model.predict_proba(x)[:,0])*100))\r\n",
        "  "
      ],
      "execution_count": null,
      "outputs": []
    },
    {
      "cell_type": "code",
      "metadata": {
        "id": "AhI0DRfmpDUo"
      },
      "source": [
        "##Imports du fichier a prédire\r\n",
        "data_example = pd.read_csv('/content/drive/My Drive/DataAnalyst/P6_Muller_Gauthier/data/example.csv')\r\n",
        "data_example = data_example.drop(['diagonal','height_left','height_right','margin_up'], axis=1)\r\n",
        "data_example.head()"
      ],
      "execution_count": null,
      "outputs": []
    },
    {
      "cell_type": "code",
      "metadata": {
        "id": "KcXtKwMrpTm4"
      },
      "source": [
        "##Boucle sur chaque ligne du fichier\r\n",
        "for i in range(len(data_example)):\r\n",
        "    survie(model,data_example.iloc[i,0],data_example.iloc[i,1])"
      ],
      "execution_count": null,
      "outputs": []
    }
  ]
}